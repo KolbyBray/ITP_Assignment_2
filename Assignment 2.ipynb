{
 "cells": [
  {
   "cell_type": "code",
   "execution_count": 8,
   "id": "df729027-f326-4dd1-a6f1-04b76383f5f0",
   "metadata": {},
   "outputs": [
    {
     "name": "stdout",
     "output_type": "stream",
     "text": [
      "2\n"
     ]
    }
   ],
   "source": [
    "#Booleans\n",
    "# boolean True + boolean True - boolean False = ?\n",
    "x = True + True - False\n",
    "print(x)"
   ]
  },
  {
   "cell_type": "code",
   "execution_count": 7,
   "id": "9489dc29-b5c9-4e73-af35-1616b46f2d42",
   "metadata": {},
   "outputs": [
    {
     "name": "stdout",
     "output_type": "stream",
     "text": [
      "1\n"
     ]
    }
   ],
   "source": [
    "# Booleans 2\n",
    "#logical tracker = True\n",
    "#logical tracker = logical tracker & logical tracker\n",
    "#logical tracker = logical tracker | (logical tracker - logical tracker)\n",
    "#logical tracker  = ?\n",
    "\n",
    "logical_tracker = True\n",
    "\n",
    "logical_tracker = logical_tracker & logical_tracker\n",
    "\n",
    "logical_tracker = logical_tracker | (logical_tracker - logical_tracker)\n",
    "\n",
    "print(logical_tracker)"
   ]
  },
  {
   "cell_type": "code",
   "execution_count": 10,
   "id": "37a98808-cb4f-4ec8-9bf1-df037b3da3df",
   "metadata": {},
   "outputs": [
    {
     "name": "stdout",
     "output_type": "stream",
     "text": [
      " \n"
     ]
    }
   ],
   "source": [
    "#Strings\n",
    "#string = \"E. Coli\"\n",
    "#string[2]=\n",
    "string = \"E. Coli\"\n",
    "\n",
    "print(string[2])"
   ]
  },
  {
   "cell_type": "code",
   "execution_count": 11,
   "id": "9139f4b6-dcb1-4e8b-873c-f94257aaea9d",
   "metadata": {},
   "outputs": [
    {
     "ename": "TypeError",
     "evalue": "'str' object does not support item assignment",
     "output_type": "error",
     "traceback": [
      "\u001b[1;31m---------------------------------------------------------------------------\u001b[0m",
      "\u001b[1;31mTypeError\u001b[0m                                 Traceback (most recent call last)",
      "Cell \u001b[1;32mIn[11], line 9\u001b[0m\n\u001b[0;32m      1\u001b[0m \u001b[38;5;66;03m#Strings 2\u001b[39;00m\n\u001b[0;32m      2\u001b[0m \u001b[38;5;66;03m#Oh no! My string has a typo!\u001b[39;00m\n\u001b[0;32m      3\u001b[0m \u001b[38;5;66;03m#string = \"I Bove python\"\u001b[39;00m\n\u001b[0;32m      4\u001b[0m \u001b[38;5;66;03m#No worries though. I'll just fix that.\u001b[39;00m\n\u001b[0;32m      5\u001b[0m \u001b[38;5;66;03m#string[2]=\"L\"\u001b[39;00m\n\u001b[0;32m      7\u001b[0m string \u001b[38;5;241m=\u001b[39m \u001b[38;5;124m\"\u001b[39m\u001b[38;5;124mI Bove python\u001b[39m\u001b[38;5;124m\"\u001b[39m\n\u001b[1;32m----> 9\u001b[0m \u001b[43mstring\u001b[49m\u001b[43m[\u001b[49m\u001b[38;5;241;43m2\u001b[39;49m\u001b[43m]\u001b[49m\u001b[38;5;241m=\u001b[39m\u001b[38;5;124m\"\u001b[39m\u001b[38;5;124mL\u001b[39m\u001b[38;5;124m\"\u001b[39m\n",
      "\u001b[1;31mTypeError\u001b[0m: 'str' object does not support item assignment"
     ]
    }
   ],
   "source": [
    "#Strings 2\n",
    "#Oh no! My string has a typo!\n",
    "#string = \"I Bove python\"\n",
    "#No worries though. I'll just fix that.\n",
    "#string[2]=\"L\"\n",
    "\n",
    "string = \"I Bove python\"\n",
    "\n",
    "string[2]=\"L\""
   ]
  },
  {
   "cell_type": "code",
   "execution_count": 4,
   "id": "136ea87b-df47-4f78-8ea2-42e8cc7b2b9f",
   "metadata": {},
   "outputs": [
    {
     "name": "stdout",
     "output_type": "stream",
     "text": [
      "<class 'int'>\n"
     ]
    }
   ],
   "source": [
    "#Jack has been prescribed 5 medications, write a variable named \"Medication\"\n",
    "#and store in it the number of medications he has.\n",
    "#Print the type of the variable ''Medication\".\n",
    "medication = 5\n",
    "print(type(medication))"
   ]
  },
  {
   "cell_type": "code",
   "execution_count": 5,
   "id": "f963aeaa-82ee-4d8b-983a-33c7ab90434e",
   "metadata": {},
   "outputs": [
    {
     "name": "stdout",
     "output_type": "stream",
     "text": [
      "37.974683544303794\n"
     ]
    }
   ],
   "source": [
    "#Susan has a weight of 60 kilograms and a height of 1.58 meters.\n",
    "#Write Code to Calculate and Print Susan’s Body Mass Index as float.\n",
    "def bmi(weight, height):\n",
    "    return weight/height\n",
    "susan_bmi = bmi(60, 1.58)\n",
    "print(susan_bmi)"
   ]
  },
  {
   "cell_type": "code",
   "execution_count": 12,
   "id": "f16f2d9a-258a-4ef9-9651-d06374bfcb6c",
   "metadata": {},
   "outputs": [
    {
     "name": "stdout",
     "output_type": "stream",
     "text": [
      "73\n"
     ]
    }
   ],
   "source": [
    "#String 3\n",
    "#Type the output if the strings \"7\" and \"3\" are added.\n",
    "print(\"7\" + \"3\")"
   ]
  }
 ],
 "metadata": {
  "kernelspec": {
   "display_name": "Python 3 (ipykernel)",
   "language": "python",
   "name": "python3"
  },
  "language_info": {
   "codemirror_mode": {
    "name": "ipython",
    "version": 3
   },
   "file_extension": ".py",
   "mimetype": "text/x-python",
   "name": "python",
   "nbconvert_exporter": "python",
   "pygments_lexer": "ipython3",
   "version": "3.11.4"
  }
 },
 "nbformat": 4,
 "nbformat_minor": 5
}
